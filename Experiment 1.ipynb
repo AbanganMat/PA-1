{
 "cells": [
  {
   "cell_type": "markdown",
   "id": "cae829e2-581e-444e-894d-5a9d96c381a3",
   "metadata": {},
   "source": [
    "### PA Assignment #1"
   ]
  },
  {
   "cell_type": "code",
   "execution_count": 15,
   "id": "3c912d84-f00c-45ec-9be0-f6194ed36e17",
   "metadata": {},
   "outputs": [
    {
     "name": "stdout",
     "output_type": "stream",
     "text": [
      "adeegghiiilmnnpst\n",
      "aaacccdeefgiiiiiiillloopprrssstuux\n"
     ]
    }
   ],
   "source": [
    "# 1. Alphabet Soup Problem\n",
    "\n",
    "# Define function\n",
    "def alphabet(string):\n",
    "    # Sort Characters\n",
    "    char_list = list(string)\n",
    "\n",
    "    # Sort in Alphabetical Order\n",
    "    sorted_list = sorted(char_list)\n",
    "\n",
    "    # Join into a single string\n",
    "    sorted_string = \"\".join(sorted_list)\n",
    "\n",
    "    # Return Sorted String\n",
    "    return sorted_string\n",
    "\n",
    "# Output\n",
    "print(alphabet(\"iamlightningspeed\"))\n",
    "print(alphabet(\"supercalifragilisticexpialidocious\"))"
   ]
  },
  {
   "cell_type": "code",
   "execution_count": 17,
   "id": "57432116-e602-4c08-8eb3-26af652839c3",
   "metadata": {},
   "outputs": [
    {
     "name": "stdout",
     "output_type": "stream",
     "text": [
      "Make me :) but at the same time, make me :(\n",
      "Currently feeling :( but I :) like never happened\n",
      ":) until the end and :D like a man, carry on\n"
     ]
    }
   ],
   "source": [
    "# 2. Emoticon Problem\n",
    "\n",
    "# Define function\n",
    "def emotify(sentence):\n",
    "    # Mapping words to emoticons\n",
    "    mapping = {\n",
    "        \"smile\": \":)\",\n",
    "        \"grin\": \":D\",\n",
    "        \"sad\": \":(\",\n",
    "        \"mad\": \">:(\"\n",
    "    }\n",
    "    \n",
    "    # Split sentence into pieces\n",
    "    words = sentence.split()\n",
    "    \n",
    "    # Empty list to store converted words\n",
    "    converted = []\n",
    "    \n",
    "    # Loop through each word\n",
    "    for w in words:\n",
    "        if w in mapping:\n",
    "            converted.append(mapping[w])  # replace with emoticon\n",
    "        else:\n",
    "            converted.append(w)  # keep original sentence\n",
    "    \n",
    "    # Return the final string\n",
    "    return \" \".join(converted)\n",
    "\n",
    "# Output\n",
    "print(emotify(\"Make me smile but at the same time, make me sad\"))\n",
    "print(emotify(\"Currently feeling sad but I smile like never happened\"))\n",
    "print(emotify(\"smile until the end and grin like a man, carry on\"))"
   ]
  },
  {
   "cell_type": "code",
   "execution_count": 18,
   "id": "bec012ae-e17c-4c02-82dd-56e092e50e2b",
   "metadata": {},
   "outputs": [
    {
     "name": "stdout",
     "output_type": "stream",
     "text": [
      "first: 1\n",
      "middle: [2, 3, 4, 5]\n",
      "last: 6\n"
     ]
    }
   ],
   "source": [
    "# 3. Unpacking List Problem\n",
    "\n",
    "# Define function\n",
    "def unpack_list(lst):\n",
    "    # Get first element\n",
    "    first = lst[0]\n",
    "\n",
    "    # Get last element (count length and subtract 1)\n",
    "    last = lst[len(lst) - 1]\n",
    "\n",
    "    # Get middle elements (everything except first and last)\n",
    "    middle = lst[1:len(lst)-1]\n",
    "\n",
    "    # Return results\n",
    "    return first, middle, last\n",
    "\n",
    "# Example usage\n",
    "numbers = [1, 2, 3, 4, 5, 6]\n",
    "first, middle, last = unpack_list(numbers)\n",
    "\n",
    "# Output\n",
    "print(\"first:\", first)\n",
    "print(\"middle:\", middle)\n",
    "print(\"last:\", last)"
   ]
  }
 ],
 "metadata": {
  "kernelspec": {
   "display_name": "Python [conda env:base] *",
   "language": "python",
   "name": "conda-base-py"
  },
  "language_info": {
   "codemirror_mode": {
    "name": "ipython",
    "version": 3
   },
   "file_extension": ".py",
   "mimetype": "text/x-python",
   "name": "python",
   "nbconvert_exporter": "python",
   "pygments_lexer": "ipython3",
   "version": "3.13.5"
  }
 },
 "nbformat": 4,
 "nbformat_minor": 5
}
